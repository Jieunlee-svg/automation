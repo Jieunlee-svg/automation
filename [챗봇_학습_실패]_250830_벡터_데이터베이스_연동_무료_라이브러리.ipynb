{
  "nbformat": 4,
  "nbformat_minor": 0,
  "metadata": {
    "colab": {
      "provenance": [],
      "authorship_tag": "ABX9TyNjfCo8j60/4w8q2bBKkR3A",
      "include_colab_link": true
    },
    "kernelspec": {
      "name": "python3",
      "display_name": "Python 3"
    },
    "language_info": {
      "name": "python"
    }
  },
  "cells": [
    {
      "cell_type": "markdown",
      "metadata": {
        "id": "view-in-github",
        "colab_type": "text"
      },
      "source": [
        "<a href=\"https://colab.research.google.com/github/Jieunlee-svg/automation/blob/main/%5B%EC%B1%97%EB%B4%87_%ED%95%99%EC%8A%B5_%EC%8B%A4%ED%8C%A8%5D_250830_%EB%B2%A1%ED%84%B0_%EB%8D%B0%EC%9D%B4%ED%84%B0%EB%B2%A0%EC%9D%B4%EC%8A%A4_%EC%97%B0%EB%8F%99_%EB%AC%B4%EB%A3%8C_%EB%9D%BC%EC%9D%B4%EB%B8%8C%EB%9F%AC%EB%A6%AC.ipynb\" target=\"_parent\"><img src=\"https://colab.research.google.com/assets/colab-badge.svg\" alt=\"Open In Colab\"/></a>"
      ]
    },
    {
      "cell_type": "code",
      "execution_count": 2,
      "metadata": {
        "colab": {
          "base_uri": "https://localhost:8080/"
        },
        "id": "jMXu-ZE362FH",
        "outputId": "f899e5fb-7b12-4b01-fbc4-180761dc1ebc"
      },
      "outputs": [
        {
          "output_type": "stream",
          "name": "stdout",
          "text": [
            "\u001b[31mERROR: pip's dependency resolver does not currently take into account all the packages that are installed. This behaviour is the source of the following dependency conflicts.\n",
            "google-generativeai 0.8.4 requires google-ai-generativelanguage==0.6.15, but you have google-ai-generativelanguage 0.6.18 which is incompatible.\u001b[0m\u001b[31m\n",
            "\u001b[0m"
          ]
        }
      ],
      "source": [
        "# 0) 충돌 가능 패키지 제거\n",
        "!pip uninstall -y -q google-generativeai google-ai-generativelanguage google-genai google-cloud-aiplatform\n",
        "\n",
        "# 1) 호환 버전 \"강제\" 설치(의존성 무시)\n",
        "!pip install -q --no-deps \"google-ai-generativelanguage==0.6.15\"\n",
        "!pip install -q --no-deps \"google-generativeai==0.8.4\"\n",
        "\n",
        "# 2) LangChain 어댑터가 필요하면\n",
        "!pip install -q langchain-google-genai"
      ]
    },
    {
      "cell_type": "code",
      "source": [
        "# 임베딩 (로컬 실행)\n",
        "!pip install -Uqq sentence-transformers\n",
        "\n",
        "# 벡터 DB\n",
        "!pip install -Uqq chromadb\n",
        "\n",
        "# LangChain 본체 + 커뮤니티 모듈\n",
        "!pip install -Uqq langchain langchain-community\n",
        "\n",
        "# PDF 텍스트 추출\n",
        "!pip install -Uqq pypdf\n",
        "\n",
        "# 토큰 계산\n",
        "!pip install -Uqq tiktoken\n",
        "\n",
        "# Gemini API 연결 (LangChain ↔ Gemini)\n",
        "!pip install -Uqq langchain-google-genai"
      ],
      "metadata": {
        "id": "7oBd9Kc77SXP"
      },
      "execution_count": null,
      "outputs": []
    },
    {
      "cell_type": "code",
      "source": [
        "#환경 변수 설정\n",
        "import os\n",
        "os.environ[\"GOOGLE_API_KEY\"] = \"ㅇㅇ\""
      ],
      "metadata": {
        "id": "hhBQlLVN7C8c"
      },
      "execution_count": null,
      "outputs": []
    },
    {
      "cell_type": "code",
      "source": [
        "#PDF 텍스트 추출\n",
        "from pypdf import PdfReader\n",
        "\n",
        "def load_pdf(path):\n",
        "    reader = PdfReader(path)\n",
        "    texts = []\n",
        "    for page in reader.pages:\n",
        "        texts.append(page.extract_text())\n",
        "    return \"\\n\".join(texts)\n",
        "\n",
        "from google.colab import drive\n",
        "drive.mount('/content/drive')\n",
        "\n",
        "text = load_pdf(\"/content/[자료] 오픈채팅방 자주묻는 질문 - 시트2.pdf\")\n",
        "print(text[:500])  # 앞부분만 출력"
      ],
      "metadata": {
        "id": "jzwzk-su7D9r"
      },
      "execution_count": null,
      "outputs": []
    },
    {
      "cell_type": "code",
      "source": [
        "#문서 분할(chuncking)\n",
        "from langchain.text_splitter import RecursiveCharacterTextSplitter\n",
        "\n",
        "splitter = RecursiveCharacterTextSplitter(\n",
        "    chunk_size=500,\n",
        "    chunk_overlap=100,\n",
        "    length_function=len\n",
        ")\n",
        "\n",
        "docs = splitter.split_text(text)\n",
        "print(len(docs), \"chunks\")"
      ],
      "metadata": {
        "id": "B0cOKPN77FDz"
      },
      "execution_count": null,
      "outputs": []
    },
    {
      "cell_type": "code",
      "source": [
        "from sentence_transformers import SentenceTransformer\n",
        "from langchain_community.embeddings import HuggingFaceEmbeddings\n",
        "\n",
        "# 임베딩 모델 로드\n",
        "embedding_model = HuggingFaceEmbeddings(model_name=\"sentence-transformers/all-MiniLM-L6-v2\")\n",
        "\n",
        "# 문서 임베딩\n",
        "doc_embeddings = embedding_model.embed_documents(docs)"
      ],
      "metadata": {
        "id": "TegrXOvF7GmH"
      },
      "execution_count": null,
      "outputs": []
    },
    {
      "cell_type": "code",
      "source": [
        "#ChromaDB에 저장\n",
        "\n",
        "import chromadb\n",
        "from langchain_community.vectorstores import Chroma\n",
        "\n",
        "# 로컬 ChromaDB 초기화\n",
        "chroma_client = chromadb.Client()\n",
        "vectorstore = Chroma.from_texts(\n",
        "    texts=docs,\n",
        "    embedding=embedding_model,\n",
        "    client=chroma_client,\n",
        "    collection_name=\"my_docs\"\n",
        ")"
      ],
      "metadata": {
        "id": "t1y8WNLh7HzG"
      },
      "execution_count": null,
      "outputs": []
    },
    {
      "cell_type": "code",
      "source": [
        "#Gemini 2.5 Flash 모델 로드\n",
        "import google.generativeai as genai\n",
        "from langchain_google_genai import ChatGoogleGenerativeAI\n",
        "\n",
        "genai.configure(api_key=os.environ[\"GOOGLE_API_KEY\"])\n",
        "\n",
        "llm = ChatGoogleGenerativeAI(model=\"gemini-2.5-flash\")"
      ],
      "metadata": {
        "id": "4As1weDY7Iy6"
      },
      "execution_count": null,
      "outputs": []
    },
    {
      "cell_type": "code",
      "source": [
        "#RAG 체인 구성\n",
        "from langchain.chains import RetrievalQA\n",
        "\n",
        "retriever = vectorstore.as_retriever(search_kwargs={\"k\": 3})\n",
        "\n",
        "qa_chain = RetrievalQA.from_chain_type(\n",
        "    llm=llm,\n",
        "    retriever=retriever,\n",
        "    return_source_documents=True\n",
        ")\n",
        "\n",
        "query = \"이 문서에서 결제 방법은 무엇인가요?\"\n",
        "result = qa_chain.invoke(query)\n",
        "\n",
        "print(\"Answer:\", result[\"result\"])\n",
        "print(\"Sources:\", [doc.page_content[:50] for doc in result[\"source_documents\"]])"
      ],
      "metadata": {
        "id": "2PpQ5k9q7J9Z"
      },
      "execution_count": null,
      "outputs": []
    }
  ]
}