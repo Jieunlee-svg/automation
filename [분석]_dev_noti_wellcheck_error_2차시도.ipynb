{
  "nbformat": 4,
  "nbformat_minor": 0,
  "metadata": {
    "colab": {
      "provenance": [],
      "authorship_tag": "ABX9TyOkKIfPyaIewP7oBGRyhWSe",
      "include_colab_link": true
    },
    "kernelspec": {
      "name": "python3",
      "display_name": "Python 3"
    },
    "language_info": {
      "name": "python"
    }
  },
  "cells": [
    {
      "cell_type": "markdown",
      "metadata": {
        "id": "view-in-github",
        "colab_type": "text"
      },
      "source": [
        "<a href=\"https://colab.research.google.com/github/Jieunlee-svg/automation/blob/main/%5B%EB%B6%84%EC%84%9D%5D_dev_noti_wellcheck_error_2%EC%B0%A8%EC%8B%9C%EB%8F%84.ipynb\" target=\"_parent\"><img src=\"https://colab.research.google.com/assets/colab-badge.svg\" alt=\"Open In Colab\"/></a>"
      ]
    },
    {
      "cell_type": "code",
      "execution_count": 1,
      "metadata": {
        "colab": {
          "base_uri": "https://localhost:8080/"
        },
        "id": "h5F7WsLB3U4i",
        "outputId": "5f5cd8e7-bef5-4cf7-b6ea-721b309ea0e2"
      },
      "outputs": [
        {
          "output_type": "stream",
          "name": "stdout",
          "text": [
            "--2025-09-24 08:36:01--  https://dl.google.com/linux/direct/google-chrome-stable_current_amd64.deb\n",
            "Resolving dl.google.com (dl.google.com)... 74.125.26.93, 74.125.26.136, 74.125.26.190, ...\n",
            "Connecting to dl.google.com (dl.google.com)|74.125.26.93|:443... connected.\n",
            "HTTP request sent, awaiting response... 200 OK\n",
            "Length: 120353168 (115M) [application/x-debian-package]\n",
            "Saving to: ‘google-chrome-stable_current_amd64.deb’\n",
            "\n",
            "google-chrome-stabl 100%[===================>] 114.78M   297MB/s    in 0.4s    \n",
            "\n",
            "2025-09-24 08:36:02 (297 MB/s) - ‘google-chrome-stable_current_amd64.deb’ saved [120353168/120353168]\n",
            "\n",
            "Selecting previously unselected package google-chrome-stable.\n",
            "(Reading database ... 126435 files and directories currently installed.)\n",
            "Preparing to unpack google-chrome-stable_current_amd64.deb ...\n",
            "Unpacking google-chrome-stable (140.0.7339.207-1) ...\n",
            "\u001b[1mdpkg:\u001b[0m dependency problems prevent configuration of google-chrome-stable:\n",
            " google-chrome-stable depends on libvulkan1; however:\n",
            "  Package libvulkan1 is not installed.\n",
            "\n",
            "\u001b[1mdpkg:\u001b[0m error processing package google-chrome-stable (--install):\n",
            " dependency problems - leaving unconfigured\n",
            "Processing triggers for mailcap (3.70+nmu1ubuntu1) ...\n",
            "Processing triggers for man-db (2.10.2-1) ...\n",
            "Errors were encountered while processing:\n",
            " google-chrome-stable\n",
            "Correcting dependencies... Done\n",
            "The following additional packages will be installed:\n",
            "  libvulkan1 mesa-vulkan-drivers\n",
            "The following NEW packages will be installed:\n",
            "  libvulkan1 mesa-vulkan-drivers\n",
            "0 upgraded, 2 newly installed, 0 to remove and 35 not upgraded.\n",
            "1 not fully installed or removed.\n",
            "Need to get 10.9 MB of archives.\n",
            "After this operation, 51.3 MB of additional disk space will be used.\n",
            "Selecting previously unselected package libvulkan1:amd64.\n",
            "(Reading database ... 126718 files and directories currently installed.)\n",
            "Preparing to unpack .../libvulkan1_1.3.204.1-2_amd64.deb ...\n",
            "Unpacking libvulkan1:amd64 (1.3.204.1-2) ...\n",
            "Selecting previously unselected package mesa-vulkan-drivers:amd64.\n",
            "Preparing to unpack .../mesa-vulkan-drivers_23.2.1-1ubuntu3.1~22.04.3_amd64.deb ...\n",
            "Unpacking mesa-vulkan-drivers:amd64 (23.2.1-1ubuntu3.1~22.04.3) ...\n",
            "Setting up libvulkan1:amd64 (1.3.204.1-2) ...\n",
            "Setting up mesa-vulkan-drivers:amd64 (23.2.1-1ubuntu3.1~22.04.3) ...\n",
            "Setting up google-chrome-stable (140.0.7339.207-1) ...\n",
            "update-alternatives: using /usr/bin/google-chrome-stable to provide /usr/bin/x-www-browser (x-www-browser) in auto mode\n",
            "update-alternatives: using /usr/bin/google-chrome-stable to provide /usr/bin/gnome-www-browser (gnome-www-browser) in auto mode\n",
            "update-alternatives: using /usr/bin/google-chrome-stable to provide /usr/bin/google-chrome (google-chrome) in auto mode\n",
            "Processing triggers for libc-bin (2.35-0ubuntu3.8) ...\n",
            "/sbin/ldconfig.real: /usr/local/lib/libhwloc.so.15 is not a symbolic link\n",
            "\n",
            "/sbin/ldconfig.real: /usr/local/lib/libtbbmalloc.so.2 is not a symbolic link\n",
            "\n",
            "/sbin/ldconfig.real: /usr/local/lib/libtbbbind_2_5.so.3 is not a symbolic link\n",
            "\n",
            "/sbin/ldconfig.real: /usr/local/lib/libtcm.so.1 is not a symbolic link\n",
            "\n",
            "/sbin/ldconfig.real: /usr/local/lib/libur_adapter_level_zero_v2.so.0 is not a symbolic link\n",
            "\n",
            "/sbin/ldconfig.real: /usr/local/lib/libur_loader.so.0 is not a symbolic link\n",
            "\n",
            "/sbin/ldconfig.real: /usr/local/lib/libumf.so.0 is not a symbolic link\n",
            "\n",
            "/sbin/ldconfig.real: /usr/local/lib/libtcm_debug.so.1 is not a symbolic link\n",
            "\n",
            "/sbin/ldconfig.real: /usr/local/lib/libur_adapter_opencl.so.0 is not a symbolic link\n",
            "\n",
            "/sbin/ldconfig.real: /usr/local/lib/libur_adapter_level_zero.so.0 is not a symbolic link\n",
            "\n",
            "/sbin/ldconfig.real: /usr/local/lib/libtbbmalloc_proxy.so.2 is not a symbolic link\n",
            "\n",
            "/sbin/ldconfig.real: /usr/local/lib/libtbbbind_2_0.so.3 is not a symbolic link\n",
            "\n",
            "/sbin/ldconfig.real: /usr/local/lib/libtbb.so.12 is not a symbolic link\n",
            "\n",
            "/sbin/ldconfig.real: /usr/local/lib/libtbbbind.so.3 is not a symbolic link\n",
            "\n"
          ]
        }
      ],
      "source": [
        "# 크롬 설치\n",
        "!wget https://dl.google.com/linux/direct/google-chrome-stable_current_amd64.deb\n",
        "!dpkg -i google-chrome-stable_current_amd64.deb\n",
        "!apt -f install -y -qq"
      ]
    },
    {
      "cell_type": "code",
      "source": [
        "# 크롬 드라이버 설치 - 버전 확인 및 설치\n",
        "!CHROME_VERSION=$(google-chrome --version | grep -oP '\\d+\\.\\d+\\.\\d+') && \\\n",
        "  DRIVER_VERSION=$(curl -s \"https://googlechromelabs.github.io/chrome-for-testing/LATEST_RELEASE_${CHROME_VERSION}\") && \\\n",
        "  wget -q -O chromedriver.zip https://edgedl.me.gvt1.com/edgedl/chrome/chrome-for-testing/${DRIVER_VERSION}/linux64/chromedriver-linux64.zip && \\\n",
        "  unzip chromedriver.zip && \\\n",
        "  mv chromedriver-linux64/chromedriver /usr/bin/chromedriver && \\\n",
        "  chmod +x /usr/bin/chromedriver"
      ],
      "metadata": {
        "colab": {
          "base_uri": "https://localhost:8080/"
        },
        "id": "0tIC96hE3gtc",
        "outputId": "2506e882-f9f2-436f-d797-2e1e4faef7b6"
      },
      "execution_count": 2,
      "outputs": [
        {
          "output_type": "stream",
          "name": "stdout",
          "text": [
            "Archive:  chromedriver.zip\n",
            "  inflating: chromedriver-linux64/LICENSE.chromedriver  \n",
            "  inflating: chromedriver-linux64/THIRD_PARTY_NOTICES.chromedriver  \n",
            "  inflating: chromedriver-linux64/chromedriver  \n"
          ]
        }
      ]
    },
    {
      "cell_type": "code",
      "source": [
        "# 셀레니움 설치\n",
        "!pip install selenium"
      ],
      "metadata": {
        "colab": {
          "base_uri": "https://localhost:8080/"
        },
        "id": "OUP4EFfG3iFj",
        "outputId": "bfe7c63a-c77e-432d-bfbf-8221a1a11c15"
      },
      "execution_count": 3,
      "outputs": [
        {
          "output_type": "stream",
          "name": "stdout",
          "text": [
            "Collecting selenium\n",
            "  Downloading selenium-4.35.0-py3-none-any.whl.metadata (7.4 kB)\n",
            "Requirement already satisfied: urllib3<3.0,>=2.5.0 in /usr/local/lib/python3.12/dist-packages (from urllib3[socks]<3.0,>=2.5.0->selenium) (2.5.0)\n",
            "Collecting trio~=0.30.0 (from selenium)\n",
            "  Downloading trio-0.30.0-py3-none-any.whl.metadata (8.5 kB)\n",
            "Collecting trio-websocket~=0.12.2 (from selenium)\n",
            "  Downloading trio_websocket-0.12.2-py3-none-any.whl.metadata (5.1 kB)\n",
            "Requirement already satisfied: certifi>=2025.6.15 in /usr/local/lib/python3.12/dist-packages (from selenium) (2025.8.3)\n",
            "Collecting typing_extensions~=4.14.0 (from selenium)\n",
            "  Downloading typing_extensions-4.14.1-py3-none-any.whl.metadata (3.0 kB)\n",
            "Requirement already satisfied: websocket-client~=1.8.0 in /usr/local/lib/python3.12/dist-packages (from selenium) (1.8.0)\n",
            "Requirement already satisfied: attrs>=23.2.0 in /usr/local/lib/python3.12/dist-packages (from trio~=0.30.0->selenium) (25.3.0)\n",
            "Requirement already satisfied: sortedcontainers in /usr/local/lib/python3.12/dist-packages (from trio~=0.30.0->selenium) (2.4.0)\n",
            "Requirement already satisfied: idna in /usr/local/lib/python3.12/dist-packages (from trio~=0.30.0->selenium) (3.10)\n",
            "Collecting outcome (from trio~=0.30.0->selenium)\n",
            "  Downloading outcome-1.3.0.post0-py2.py3-none-any.whl.metadata (2.6 kB)\n",
            "Requirement already satisfied: sniffio>=1.3.0 in /usr/local/lib/python3.12/dist-packages (from trio~=0.30.0->selenium) (1.3.1)\n",
            "Collecting wsproto>=0.14 (from trio-websocket~=0.12.2->selenium)\n",
            "  Downloading wsproto-1.2.0-py3-none-any.whl.metadata (5.6 kB)\n",
            "Requirement already satisfied: pysocks!=1.5.7,<2.0,>=1.5.6 in /usr/local/lib/python3.12/dist-packages (from urllib3[socks]<3.0,>=2.5.0->selenium) (1.7.1)\n",
            "Requirement already satisfied: h11<1,>=0.9.0 in /usr/local/lib/python3.12/dist-packages (from wsproto>=0.14->trio-websocket~=0.12.2->selenium) (0.16.0)\n",
            "Downloading selenium-4.35.0-py3-none-any.whl (9.6 MB)\n",
            "\u001b[2K   \u001b[90m━━━━━━━━━━━━━━━━━━━━━━━━━━━━━━━━━━━━━━━━\u001b[0m \u001b[32m9.6/9.6 MB\u001b[0m \u001b[31m69.6 MB/s\u001b[0m eta \u001b[36m0:00:00\u001b[0m\n",
            "\u001b[?25hDownloading trio-0.30.0-py3-none-any.whl (499 kB)\n",
            "\u001b[2K   \u001b[90m━━━━━━━━━━━━━━━━━━━━━━━━━━━━━━━━━━━━━━━━\u001b[0m \u001b[32m499.2/499.2 kB\u001b[0m \u001b[31m33.8 MB/s\u001b[0m eta \u001b[36m0:00:00\u001b[0m\n",
            "\u001b[?25hDownloading trio_websocket-0.12.2-py3-none-any.whl (21 kB)\n",
            "Downloading typing_extensions-4.14.1-py3-none-any.whl (43 kB)\n",
            "\u001b[2K   \u001b[90m━━━━━━━━━━━━━━━━━━━━━━━━━━━━━━━━━━━━━━━━\u001b[0m \u001b[32m43.9/43.9 kB\u001b[0m \u001b[31m3.5 MB/s\u001b[0m eta \u001b[36m0:00:00\u001b[0m\n",
            "\u001b[?25hDownloading outcome-1.3.0.post0-py2.py3-none-any.whl (10 kB)\n",
            "Downloading wsproto-1.2.0-py3-none-any.whl (24 kB)\n",
            "Installing collected packages: wsproto, typing_extensions, outcome, trio, trio-websocket, selenium\n",
            "  Attempting uninstall: typing_extensions\n",
            "    Found existing installation: typing_extensions 4.15.0\n",
            "    Uninstalling typing_extensions-4.15.0:\n",
            "      Successfully uninstalled typing_extensions-4.15.0\n",
            "Successfully installed outcome-1.3.0.post0 selenium-4.35.0 trio-0.30.0 trio-websocket-0.12.2 typing_extensions-4.14.1 wsproto-1.2.0\n"
          ]
        }
      ]
    },
    {
      "cell_type": "code",
      "source": [
        "from selenium import webdriver\n",
        "from selenium.webdriver.chrome.service import Service\n",
        "from selenium.webdriver.chrome.options import Options\n",
        "\n",
        "chrome_options = Options()\n",
        "chrome_options.add_argument('--headless')\n",
        "chrome_options.add_argument('--no-sandbox')\n",
        "chrome_options.add_argument('--disable-dev-shm-usage')\n",
        "chrome_options.binary_location = '/usr/bin/google-chrome'  # Colab 환경에서는 필수!"
      ],
      "metadata": {
        "id": "2XforDsu3mAE"
      },
      "execution_count": 4,
      "outputs": []
    },
    {
      "cell_type": "code",
      "source": [
        "# 드라이버 실행\n",
        "service = Service('/usr/bin/chromedriver')\n",
        "driver = webdriver.Chrome(service=service, options=chrome_options)"
      ],
      "metadata": {
        "id": "J-DzXG2p3nGg"
      },
      "execution_count": 5,
      "outputs": []
    },
    {
      "cell_type": "code",
      "source": [
        "# 정상 작동 테스트\n",
        "driver.get(\"https://www.google.com\")\n",
        "print(\"✅ 페이지 타이틀:\", driver.title)"
      ],
      "metadata": {
        "colab": {
          "base_uri": "https://localhost:8080/"
        },
        "id": "FHwnujnx3oP_",
        "outputId": "edc5ba25-bdda-4e75-c6fb-d3bd4585af6a"
      },
      "execution_count": 6,
      "outputs": [
        {
          "output_type": "stream",
          "name": "stdout",
          "text": [
            "✅ 페이지 타이틀: Google\n"
          ]
        }
      ]
    },
    {
      "cell_type": "code",
      "source": [
        "from selenium.webdriver.common.by import By\n",
        "from selenium.webdriver.support.ui import WebDriverWait\n",
        "from selenium.webdriver.support import expected_conditions as EC\n",
        "import time\n",
        "\n",
        "# 1. 로그인 페이지 이동\n",
        "driver.get(\"https://admin.well-check.co.kr/login\")\n",
        "\n",
        "# 2. 입력창이 렌더링될 때까지 대기\n",
        "wait = WebDriverWait(driver, 10)\n",
        "user_input = wait.until(EC.presence_of_element_located((By.NAME, \"userId\")))\n",
        "pass_input = wait.until(EC.presence_of_element_located((By.NAME, \"passwd\")))\n",
        "\n",
        "# 3. 아이디/비밀번호 입력\n",
        "user_input.send_keys(\"jel@mcircle.biz\")\n",
        "pass_input.send_keys(\"Pw@01604\")\n",
        "\n",
        "# 4. 로그인 버튼 클릭\n",
        "login_btn = driver.find_element(By.TAG_NAME, \"button\")\n",
        "login_btn.click()\n",
        "\n",
        "# 5. 로그인 완료 후 대기\n",
        "time.sleep(3)\n",
        "\n",
        "# 확인\n",
        "print(\"✅ 로그인 완료, 현재 페이지:\", driver.title)"
      ],
      "metadata": {
        "colab": {
          "base_uri": "https://localhost:8080/"
        },
        "id": "JR1ASRam3prZ",
        "outputId": "f83aa06f-2200-4f82-eaaf-182b2d04bfd6"
      },
      "execution_count": 8,
      "outputs": [
        {
          "output_type": "stream",
          "name": "stdout",
          "text": [
            "✅ 로그인 완료, 현재 페이지: Home :: 웰체크 어드민 ::\n"
          ]
        }
      ]
    },
    {
      "cell_type": "code",
      "source": [
        "from selenium.webdriver.common.by import By\n",
        "from selenium.webdriver.support.ui import WebDriverWait\n",
        "from selenium.webdriver.support import expected_conditions as EC\n",
        "\n",
        "# 1. 고객 테이블 페이지로 이동\n",
        "driver.get(\"https://admin.well-check.co.kr/users/customers\")"
      ],
      "metadata": {
        "id": "Jtgv9g2S4A-b"
      },
      "execution_count": 9,
      "outputs": []
    },
    {
      "cell_type": "code",
      "source": [
        "!pip install gspread oauth2client"
      ],
      "metadata": {
        "colab": {
          "base_uri": "https://localhost:8080/"
        },
        "id": "sV6h_VgA4CJL",
        "outputId": "d2b5ee5c-a46d-4e2b-e3e2-effb9781f2fe"
      },
      "execution_count": 10,
      "outputs": [
        {
          "output_type": "stream",
          "name": "stdout",
          "text": [
            "Requirement already satisfied: gspread in /usr/local/lib/python3.12/dist-packages (6.2.1)\n",
            "Requirement already satisfied: oauth2client in /usr/local/lib/python3.12/dist-packages (4.1.3)\n",
            "Requirement already satisfied: google-auth>=1.12.0 in /usr/local/lib/python3.12/dist-packages (from gspread) (2.38.0)\n",
            "Requirement already satisfied: google-auth-oauthlib>=0.4.1 in /usr/local/lib/python3.12/dist-packages (from gspread) (1.2.2)\n",
            "Requirement already satisfied: httplib2>=0.9.1 in /usr/local/lib/python3.12/dist-packages (from oauth2client) (0.31.0)\n",
            "Requirement already satisfied: pyasn1>=0.1.7 in /usr/local/lib/python3.12/dist-packages (from oauth2client) (0.6.1)\n",
            "Requirement already satisfied: pyasn1-modules>=0.0.5 in /usr/local/lib/python3.12/dist-packages (from oauth2client) (0.4.2)\n",
            "Requirement already satisfied: rsa>=3.1.4 in /usr/local/lib/python3.12/dist-packages (from oauth2client) (4.9.1)\n",
            "Requirement already satisfied: six>=1.6.1 in /usr/local/lib/python3.12/dist-packages (from oauth2client) (1.17.0)\n",
            "Requirement already satisfied: cachetools<6.0,>=2.0.0 in /usr/local/lib/python3.12/dist-packages (from google-auth>=1.12.0->gspread) (5.5.2)\n",
            "Requirement already satisfied: requests-oauthlib>=0.7.0 in /usr/local/lib/python3.12/dist-packages (from google-auth-oauthlib>=0.4.1->gspread) (2.0.0)\n",
            "Requirement already satisfied: pyparsing<4,>=3.0.4 in /usr/local/lib/python3.12/dist-packages (from httplib2>=0.9.1->oauth2client) (3.2.4)\n",
            "Requirement already satisfied: oauthlib>=3.0.0 in /usr/local/lib/python3.12/dist-packages (from requests-oauthlib>=0.7.0->google-auth-oauthlib>=0.4.1->gspread) (3.3.1)\n",
            "Requirement already satisfied: requests>=2.0.0 in /usr/local/lib/python3.12/dist-packages (from requests-oauthlib>=0.7.0->google-auth-oauthlib>=0.4.1->gspread) (2.32.4)\n",
            "Requirement already satisfied: charset_normalizer<4,>=2 in /usr/local/lib/python3.12/dist-packages (from requests>=2.0.0->requests-oauthlib>=0.7.0->google-auth-oauthlib>=0.4.1->gspread) (3.4.3)\n",
            "Requirement already satisfied: idna<4,>=2.5 in /usr/local/lib/python3.12/dist-packages (from requests>=2.0.0->requests-oauthlib>=0.7.0->google-auth-oauthlib>=0.4.1->gspread) (3.10)\n",
            "Requirement already satisfied: urllib3<3,>=1.21.1 in /usr/local/lib/python3.12/dist-packages (from requests>=2.0.0->requests-oauthlib>=0.7.0->google-auth-oauthlib>=0.4.1->gspread) (2.5.0)\n",
            "Requirement already satisfied: certifi>=2017.4.17 in /usr/local/lib/python3.12/dist-packages (from requests>=2.0.0->requests-oauthlib>=0.7.0->google-auth-oauthlib>=0.4.1->gspread) (2025.8.3)\n"
          ]
        }
      ]
    },
    {
      "cell_type": "code",
      "source": [
        "from google.colab import auth\n",
        "auth.authenticate_user()\n",
        "import gspread\n",
        "from google.auth import default\n",
        "\n",
        "creds, _ = default()\n",
        "gc = gspread.authorize(creds)\n",
        "\n",
        "# 스프레드시트 열기\n",
        "spreadsheet = gc.open(\"[분석] dev-noti-wellcheck-error\")\n",
        "worksheet = spreadsheet.sheet1"
      ],
      "metadata": {
        "id": "jXDAGblp4EJI"
      },
      "execution_count": 11,
      "outputs": []
    },
    {
      "cell_type": "code",
      "source": [
        "from selenium.webdriver.common.keys import Keys\n",
        "from selenium.webdriver.common.by import By\n",
        "from selenium.webdriver.support.ui import WebDriverWait\n",
        "from selenium.webdriver.support import expected_conditions as EC\n",
        "import time\n",
        "\n",
        "# C열: 휴대폰 번호 / F열: 가입일 기록\n",
        "phone_numbers = worksheet.col_values(3)  # 3번째 열\n",
        "\n",
        "for i, phone in enumerate(phone_numbers[1:], start=2):  # 2행부터 시작\n",
        "    if not phone.strip():\n",
        "        continue\n",
        "\n",
        "    # 고객 페이지로 매번 새로 이동\n",
        "    driver.get(\"https://admin.well-check.co.kr/users/customers\")\n",
        "\n",
        "    # 검색창 찾기 (검색 input의 selector 확인 필요)\n",
        "    search_box = WebDriverWait(driver, 10).until(\n",
        "        EC.presence_of_element_located((By.CSS_SELECTOR, \"input[type='text']\"))\n",
        "    )\n",
        "    search_box.clear()\n",
        "    search_box.send_keys(phone)\n",
        "    search_box.send_keys(Keys.RETURN)\n",
        "\n",
        "    time.sleep(2)  # 검색 결과 로딩 대기\n",
        "\n",
        "    try:\n",
        "        # 가입일 추출: 테이블 첫 행의 5번째 열\n",
        "        signup_date_elem = WebDriverWait(driver, 5).until(\n",
        "            EC.presence_of_element_located((\n",
        "                By.CSS_SELECTOR,\n",
        "                \"table tbody tr:nth-child(1) td:nth-child(5)\"\n",
        "            ))\n",
        "        )\n",
        "        signup_date = signup_date_elem.text\n",
        "    except:\n",
        "        signup_date = \"NOT FOUND\"\n",
        "\n",
        "    # F열에 기록\n",
        "    worksheet.update_cell(i, 6, signup_date)\n",
        "    print(f\"{phone} → {signup_date}\")\n"
      ],
      "metadata": {
        "colab": {
          "base_uri": "https://localhost:8080/"
        },
        "id": "TWKqF19F4JUN",
        "outputId": "ca689557-c78d-448a-a9ea-51deef47b115"
      },
      "execution_count": 12,
      "outputs": [
        {
          "output_type": "stream",
          "name": "stdout",
          "text": [
            "821038049867 → 2022.02.07 02:31\n",
            "821062195705 → 2025.05.03 01:27\n",
            "821045387624 → 2022.10.06 00:51\n",
            "821027616031 → 2022.05.24 05:29\n",
            "821090610021 → 2025.07.30 02:19\n",
            "821032873365 → 2022.07.09 01:36\n",
            "821074492400 → 2025.08.06 03:19\n",
            "821041014190 → 2025.08.07 05:40\n",
            "821041915949 → 2025.01.20 04:01\n",
            "821099470273 → 2023.12.21 06:28\n",
            "821066762876 → 2024.07.23 03:36\n",
            "821066219580 → 2024.05.28 07:45\n",
            "821077558577 → 2022.09.02 07:56\n",
            "821066230375 → 2024.10.31 05:24\n",
            "821044787301 → 2024.05.10 23:13\n",
            "821099470273 → 2023.12.21 06:28\n",
            "821030276358 → 2022.09.30 00:11\n",
            "821063583273 → 2024.02.16 02:33\n",
            "821032864223 → 2024.07.25 08:44\n",
            "821054118223 → 2024.01.15 05:20\n",
            "821066219580 → 2024.05.28 07:45\n",
            "821090274343 → 2024.08.05 08:33\n",
            "821089568673 → 2024.07.06 01:26\n",
            "821090274343 → 2024.08.05 08:33\n",
            "821098870282 → 2022.05.17 23:55\n",
            "821042407286 → 2024.11.27 01:37\n",
            "821052835325 → 2022.01.15 06:36\n",
            "821054112638 → 2025.02.24 04:36\n",
            "821072987198 → 2024.11.09 01:17\n",
            "821042269272 → 2022.02.26 03:09\n",
            "821036121138 → 2025.08.06 01:00\n",
            "821048577010 → 2022.05.03 02:59\n",
            "821031853628 → 2025.07.23 00:35\n",
            "821086947516 → 2022.10.25 06:08\n"
          ]
        }
      ]
    }
  ]
}