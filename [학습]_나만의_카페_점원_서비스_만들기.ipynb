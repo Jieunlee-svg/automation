{
  "nbformat": 4,
  "nbformat_minor": 0,
  "metadata": {
    "colab": {
      "provenance": [],
      "authorship_tag": "ABX9TyM2GPlpcKw9ouZrgchPDA0I",
      "include_colab_link": true
    },
    "kernelspec": {
      "name": "python3",
      "display_name": "Python 3"
    },
    "language_info": {
      "name": "python"
    }
  },
  "cells": [
    {
      "cell_type": "markdown",
      "metadata": {
        "id": "view-in-github",
        "colab_type": "text"
      },
      "source": [
        "<a href=\"https://colab.research.google.com/github/Jieunlee-svg/automation/blob/main/%5B%ED%95%99%EC%8A%B5%5D_%EB%82%98%EB%A7%8C%EC%9D%98_%EC%B9%B4%ED%8E%98_%EC%A0%90%EC%9B%90_%EC%84%9C%EB%B9%84%EC%8A%A4_%EB%A7%8C%EB%93%A4%EA%B8%B0.ipynb\" target=\"_parent\"><img src=\"https://colab.research.google.com/assets/colab-badge.svg\" alt=\"Open In Colab\"/></a>"
      ]
    },
    {
      "cell_type": "code",
      "execution_count": 2,
      "metadata": {
        "colab": {
          "base_uri": "https://localhost:8080/"
        },
        "id": "5R3lwGwDSbFu",
        "outputId": "ea19a414-f83f-4c17-8019-90941ea0317a"
      },
      "outputs": [
        {
          "output_type": "stream",
          "name": "stdout",
          "text": [
            "Requirement already satisfied: openai in /usr/local/lib/python3.12/dist-packages (1.101.0)\n",
            "Requirement already satisfied: anyio<5,>=3.5.0 in /usr/local/lib/python3.12/dist-packages (from openai) (4.10.0)\n",
            "Requirement already satisfied: distro<2,>=1.7.0 in /usr/local/lib/python3.12/dist-packages (from openai) (1.9.0)\n",
            "Requirement already satisfied: httpx<1,>=0.23.0 in /usr/local/lib/python3.12/dist-packages (from openai) (0.28.1)\n",
            "Requirement already satisfied: jiter<1,>=0.4.0 in /usr/local/lib/python3.12/dist-packages (from openai) (0.10.0)\n",
            "Requirement already satisfied: pydantic<3,>=1.9.0 in /usr/local/lib/python3.12/dist-packages (from openai) (2.11.7)\n",
            "Requirement already satisfied: sniffio in /usr/local/lib/python3.12/dist-packages (from openai) (1.3.1)\n",
            "Requirement already satisfied: tqdm>4 in /usr/local/lib/python3.12/dist-packages (from openai) (4.67.1)\n",
            "Requirement already satisfied: typing-extensions<5,>=4.11 in /usr/local/lib/python3.12/dist-packages (from openai) (4.14.1)\n",
            "Requirement already satisfied: idna>=2.8 in /usr/local/lib/python3.12/dist-packages (from anyio<5,>=3.5.0->openai) (3.10)\n",
            "Requirement already satisfied: certifi in /usr/local/lib/python3.12/dist-packages (from httpx<1,>=0.23.0->openai) (2025.8.3)\n",
            "Requirement already satisfied: httpcore==1.* in /usr/local/lib/python3.12/dist-packages (from httpx<1,>=0.23.0->openai) (1.0.9)\n",
            "Requirement already satisfied: h11>=0.16 in /usr/local/lib/python3.12/dist-packages (from httpcore==1.*->httpx<1,>=0.23.0->openai) (0.16.0)\n",
            "Requirement already satisfied: annotated-types>=0.6.0 in /usr/local/lib/python3.12/dist-packages (from pydantic<3,>=1.9.0->openai) (0.7.0)\n",
            "Requirement already satisfied: pydantic-core==2.33.2 in /usr/local/lib/python3.12/dist-packages (from pydantic<3,>=1.9.0->openai) (2.33.2)\n",
            "Requirement already satisfied: typing-inspection>=0.4.0 in /usr/local/lib/python3.12/dist-packages (from pydantic<3,>=1.9.0->openai) (0.4.1)\n"
          ]
        }
      ],
      "source": [
        "!pip install -q gradio\n",
        "!pip install openai\n",
        "!pip install -q --upgrade openai\n",
        "import gradio as gr\n",
        "from openai import OpenAI\n",
        "client = OpenAI(api_key=\"입력\")"
      ]
    },
    {
      "cell_type": "code",
      "source": [
        "def respond(user_input_message, chatbot_ui, state_message_history):\n",
        "    # 사용자 메시지 추가\n",
        "    state_message_history.append({'role': 'user', 'content': user_input_message})\n",
        "\n",
        "    # Chat Completions 호출\n",
        "    resp = client.chat.completions.create(\n",
        "        model=\"gpt-4.1-nano\",   # 필요 시 gpt-4o-mini 등으로 교체 가능\n",
        "        messages=state_message_history,\n",
        "        temperature=0.0\n",
        "    )\n",
        "\n",
        "    # 응답 텍스트 추출\n",
        "    ai_respond_message = resp.choices[0].message.content\n",
        "\n",
        "    # 어시스턴트 메시지 히스토리에 추가\n",
        "    state_message_history.append({'role': 'assistant', 'content': ai_respond_message})\n",
        "\n",
        "    # UI 채팅 로그 갱신\n",
        "    chatbot_ui.append((user_input_message, ai_respond_message))\n",
        "\n",
        "    # 입력창 비우기, 갱신된 상태 반환\n",
        "    return \"\", chatbot_ui, state_message_history\n",
        "\n",
        "with gr.Blocks() as demo:\n",
        "    state_message_history = gr.State([{\n",
        "        'role': 'system',\n",
        "        'content': \"\"\"너는 친절하고 정확한 카페 점원이야. 사용자가 음료를 주문하면 접수와 계산을 한다. 만약 사용자가 매장에 없는 메뉴를 요청하면, 죄송하다고 얘기하고, 다시 [메뉴]를 안내한다. 매장 메뉴는 아래 [메뉴]와 같다. 주문을 마쳤다면, 총금액을 알려주고 결제방식에 대해서 물어본다. 결제를 마치면 음료를 제조하고, 고객에게 기다려달라고 한다.\n",
        "[메뉴]\n",
        "아메리카노, 5000원\n",
        "라떼, 6000원\n",
        "아이스 아메리카노, 5500원\"\"\"\n",
        "    }])\n",
        "\n",
        "    chatbot_ui = gr.Chatbot(label=\"채팅창\")\n",
        "    user_input_message = gr.Textbox(label=\"입력\")\n",
        "\n",
        "    user_input_message.submit(\n",
        "        respond,\n",
        "        [user_input_message, chatbot_ui, state_message_history],\n",
        "        [user_input_message, chatbot_ui, state_message_history]\n",
        "    )\n",
        "\n",
        "demo.launch(debug=True, share=True)"
      ],
      "metadata": {
        "colab": {
          "base_uri": "https://localhost:8080/",
          "height": 646
        },
        "id": "0KhadQL4TD3G",
        "outputId": "c3037a66-3be0-4701-ed5d-939d5077ec0b"
      },
      "execution_count": null,
      "outputs": [
        {
          "metadata": {
            "tags": null
          },
          "name": "stderr",
          "output_type": "stream",
          "text": [
            "/tmp/ipython-input-1144101912.py:34: UserWarning: You have not specified a value for the `type` parameter. Defaulting to the 'tuples' format for chatbot messages, but this is deprecated and will be removed in a future version of Gradio. Please set type='messages' instead, which uses openai-style dictionaries with 'role' and 'content' keys.\n",
            "  chatbot_ui = gr.Chatbot(label=\"채팅창\")\n"
          ]
        },
        {
          "metadata": {
            "tags": null
          },
          "name": "stdout",
          "output_type": "stream",
          "text": [
            "Colab notebook detected. This cell will run indefinitely so that you can see errors and logs. To turn off, set debug=False in launch().\n",
            "* Running on public URL: https://e4cbf2045294c8940d.gradio.live\n",
            "\n",
            "This share link expires in 1 week. For free permanent hosting and GPU upgrades, run `gradio deploy` from the terminal in the working directory to deploy to Hugging Face Spaces (https://huggingface.co/spaces)\n"
          ]
        },
        {
          "data": {
            "text/html": [
              "<div><iframe src=\"https://e4cbf2045294c8940d.gradio.live\" width=\"100%\" height=\"500\" allow=\"autoplay; camera; microphone; clipboard-read; clipboard-write;\" frameborder=\"0\" allowfullscreen></iframe></div>"
            ],
            "text/plain": [
              "<IPython.core.display.HTML object>"
            ]
          },
          "metadata": {},
          "output_type": "display_data"
        }
      ]
    },
    {
      "cell_type": "code",
      "source": [],
      "metadata": {
        "id": "F2NACFvhWwpP"
      },
      "execution_count": null,
      "outputs": []
    }
  ]
}