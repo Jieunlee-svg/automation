{
  "nbformat": 4,
  "nbformat_minor": 0,
  "metadata": {
    "colab": {
      "provenance": [],
      "authorship_tag": "ABX9TyPwjETxftAjBJVnQEcjS+uR",
      "include_colab_link": true
    },
    "kernelspec": {
      "name": "python3",
      "display_name": "Python 3"
    },
    "language_info": {
      "name": "python"
    }
  },
  "cells": [
    {
      "cell_type": "markdown",
      "metadata": {
        "id": "view-in-github",
        "colab_type": "text"
      },
      "source": [
        "<a href=\"https://colab.research.google.com/github/Jieunlee-svg/automation/blob/main/%5B%ED%95%99%EC%8A%B5%5D_%EB%B2%A1%ED%84%B0_%EB%8D%B0%EC%9D%B4%ED%84%B0%EB%B2%A0%EC%9D%B4%EC%8A%A4_%EC%97%B0%EB%8F%99%ED%95%98%EA%B8%B0.ipynb\" target=\"_parent\"><img src=\"https://colab.research.google.com/assets/colab-badge.svg\" alt=\"Open In Colab\"/></a>"
      ]
    },
    {
      "cell_type": "code",
      "execution_count": 1,
      "metadata": {
        "colab": {
          "base_uri": "https://localhost:8080/"
        },
        "id": "ziAEpv_fyxUH",
        "outputId": "5ca92d59-3255-4f54-b741-a0a7a16ee169"
      },
      "outputs": [
        {
          "output_type": "stream",
          "name": "stdout",
          "text": [
            "\u001b[2K   \u001b[90m━━━━━━━━━━━━━━━━━━━━━━━━━━━━━━━━━━━━━━━━\u001b[0m \u001b[32m74.5/74.5 kB\u001b[0m \u001b[31m2.1 MB/s\u001b[0m eta \u001b[36m0:00:00\u001b[0m\n",
            "\u001b[2K     \u001b[90m━━━━━━━━━━━━━━━━━━━━━━━━━━━━━━━━━━━━━━━━\u001b[0m \u001b[32m67.3/67.3 kB\u001b[0m \u001b[31m2.9 MB/s\u001b[0m eta \u001b[36m0:00:00\u001b[0m\n",
            "\u001b[?25h  Installing build dependencies ... \u001b[?25l\u001b[?25hdone\n",
            "  Getting requirements to build wheel ... \u001b[?25l\u001b[?25hdone\n",
            "  Preparing metadata (pyproject.toml) ... \u001b[?25l\u001b[?25hdone\n",
            "\u001b[2K   \u001b[90m━━━━━━━━━━━━━━━━━━━━━━━━━━━━━━━━━━━━━━━━\u001b[0m \u001b[32m19.8/19.8 MB\u001b[0m \u001b[31m57.3 MB/s\u001b[0m eta \u001b[36m0:00:00\u001b[0m\n",
            "\u001b[2K   \u001b[90m━━━━━━━━━━━━━━━━━━━━━━━━━━━━━━━━━━━━━━━━\u001b[0m \u001b[32m284.2/284.2 kB\u001b[0m \u001b[31m18.0 MB/s\u001b[0m eta \u001b[36m0:00:00\u001b[0m\n",
            "\u001b[2K   \u001b[90m━━━━━━━━━━━━━━━━━━━━━━━━━━━━━━━━━━━━━━━━\u001b[0m \u001b[32m1.9/1.9 MB\u001b[0m \u001b[31m56.5 MB/s\u001b[0m eta \u001b[36m0:00:00\u001b[0m\n",
            "\u001b[2K   \u001b[90m━━━━━━━━━━━━━━━━━━━━━━━━━━━━━━━━━━━━━━━━\u001b[0m \u001b[32m103.3/103.3 kB\u001b[0m \u001b[31m7.2 MB/s\u001b[0m eta \u001b[36m0:00:00\u001b[0m\n",
            "\u001b[2K   \u001b[90m━━━━━━━━━━━━━━━━━━━━━━━━━━━━━━━━━━━━━━━━\u001b[0m \u001b[32m16.5/16.5 MB\u001b[0m \u001b[31m63.3 MB/s\u001b[0m eta \u001b[36m0:00:00\u001b[0m\n",
            "\u001b[2K   \u001b[90m━━━━━━━━━━━━━━━━━━━━━━━━━━━━━━━━━━━━━━━━\u001b[0m \u001b[32m72.5/72.5 kB\u001b[0m \u001b[31m4.8 MB/s\u001b[0m eta \u001b[36m0:00:00\u001b[0m\n",
            "\u001b[2K   \u001b[90m━━━━━━━━━━━━━━━━━━━━━━━━━━━━━━━━━━━━━━━━\u001b[0m \u001b[32m105.4/105.4 kB\u001b[0m \u001b[31m6.6 MB/s\u001b[0m eta \u001b[36m0:00:00\u001b[0m\n",
            "\u001b[2K   \u001b[90m━━━━━━━━━━━━━━━━━━━━━━━━━━━━━━━━━━━━━━━━\u001b[0m \u001b[32m71.6/71.6 kB\u001b[0m \u001b[31m3.8 MB/s\u001b[0m eta \u001b[36m0:00:00\u001b[0m\n",
            "\u001b[2K   \u001b[90m━━━━━━━━━━━━━━━━━━━━━━━━━━━━━━━━━━━━━━━━\u001b[0m \u001b[32m510.8/510.8 kB\u001b[0m \u001b[31m24.8 MB/s\u001b[0m eta \u001b[36m0:00:00\u001b[0m\n",
            "\u001b[2K   \u001b[90m━━━━━━━━━━━━━━━━━━━━━━━━━━━━━━━━━━━━━━━━\u001b[0m \u001b[32m4.7/4.7 MB\u001b[0m \u001b[31m89.8 MB/s\u001b[0m eta \u001b[36m0:00:00\u001b[0m\n",
            "\u001b[2K   \u001b[90m━━━━━━━━━━━━━━━━━━━━━━━━━━━━━━━━━━━━━━━━\u001b[0m \u001b[32m452.2/452.2 kB\u001b[0m \u001b[31m24.7 MB/s\u001b[0m eta \u001b[36m0:00:00\u001b[0m\n",
            "\u001b[2K   \u001b[90m━━━━━━━━━━━━━━━━━━━━━━━━━━━━━━━━━━━━━━━━\u001b[0m \u001b[32m46.0/46.0 kB\u001b[0m \u001b[31m2.7 MB/s\u001b[0m eta \u001b[36m0:00:00\u001b[0m\n",
            "\u001b[2K   \u001b[90m━━━━━━━━━━━━━━━━━━━━━━━━━━━━━━━━━━━━━━━━\u001b[0m \u001b[32m86.8/86.8 kB\u001b[0m \u001b[31m6.3 MB/s\u001b[0m eta \u001b[36m0:00:00\u001b[0m\n",
            "\u001b[?25h  Building wheel for pypika (pyproject.toml) ... \u001b[?25l\u001b[?25hdone\n",
            "\u001b[2K   \u001b[90m━━━━━━━━━━━━━━━━━━━━━━━━━━━━━━━━━━━━━━━━\u001b[0m \u001b[32m310.5/310.5 kB\u001b[0m \u001b[31m4.8 MB/s\u001b[0m eta \u001b[36m0:00:00\u001b[0m\n",
            "\u001b[2K   \u001b[90m━━━━━━━━━━━━━━━━━━━━━━━━━━━━━━━━━━━━━━━━\u001b[0m \u001b[32m2.5/2.5 MB\u001b[0m \u001b[31m32.1 MB/s\u001b[0m eta \u001b[36m0:00:00\u001b[0m\n",
            "\u001b[2K   \u001b[90m━━━━━━━━━━━━━━━━━━━━━━━━━━━━━━━━━━━━━━━━\u001b[0m \u001b[32m50.9/50.9 kB\u001b[0m \u001b[31m3.2 MB/s\u001b[0m eta \u001b[36m0:00:00\u001b[0m\n",
            "\u001b[?25h"
          ]
        }
      ],
      "source": [
        "!pip install -Uq langchain-openai\n",
        "!pip install -Uq chromadb langchain-chroma\n",
        "!pip install -q pypdf\n",
        "!pip install -q langchain-community"
      ]
    },
    {
      "cell_type": "code",
      "source": [
        "import os\n",
        "import openai\n",
        "os.environ[\"OPENAI_API_KEY\"] = \"내 키\"\n",
        "openai.api_key  = os.getenv('OPENAI_API_KEY')"
      ],
      "metadata": {
        "id": "Kt9wOq50zMMQ"
      },
      "execution_count": 3,
      "outputs": []
    },
    {
      "cell_type": "code",
      "source": [
        "# 토큰을 계산하는 라이브러리입니다.\n",
        "!pip install -q tiktoken"
      ],
      "metadata": {
        "id": "I51J72QZzOf8"
      },
      "execution_count": 4,
      "outputs": []
    },
    {
      "cell_type": "code",
      "source": [
        "from langchain.embeddings.openai import OpenAIEmbeddings\n",
        "from langchain.text_splitter import CharacterTextSplitter\n",
        "from langchain.vectorstores import Chroma"
      ],
      "metadata": {
        "id": "9UHWLA9-zgVh"
      },
      "execution_count": 5,
      "outputs": []
    },
    {
      "cell_type": "code",
      "source": [
        "from langchain.document_loaders import PyPDFLoader"
      ],
      "metadata": {
        "id": "rxJgYqVlzhuw"
      },
      "execution_count": 6,
      "outputs": []
    },
    {
      "cell_type": "code",
      "source": [
        "# pdf 파일을 읽습니다.\n",
        "loader = PyPDFLoader(\"/content/일차의료+만성질환관리+시범사업(환자관리)_지침-pages.pdf\")\n",
        "documents = loader.load()\n",
        "\n",
        "# pdf 파일의 내용을 20글자씩 자릅니다.\n",
        "text_splitter = CharacterTextSplitter(chunk_size=20, chunk_overlap=0)\n",
        "texts= text_splitter.split_documents(documents)"
      ],
      "metadata": {
        "id": "mjLrDW-szmEE"
      },
      "execution_count": 15,
      "outputs": []
    },
    {
      "cell_type": "code",
      "source": [
        "# 결과가 어떻게 나왔을까요?\n",
        "texts"
      ],
      "metadata": {
        "colab": {
          "base_uri": "https://localhost:8080/"
        },
        "id": "FPmv-68Q0IW8",
        "outputId": "99f9d067-6996-4793-e7c1-75d8e3ec797f"
      },
      "execution_count": 16,
      "outputs": [
        {
          "output_type": "execute_result",
          "data": {
            "text/plain": [
              "[Document(metadata={'producer': 'Pdftools SDK', 'creator': 'PyPDF', 'creationdate': '', 'moddate': '2025-08-23T07:27:45+00:00', 'source': '/content/일차의료+만성질환관리+시범사업(환자관리)_지침-pages.pdf', 'total_pages': 2, 'page': 0, 'page_label': '1'}, page_content='- 3 -\\nⅠ. 시범사업 목적 및 개요1 추진 배경 및 방향가.추진배경○고혈압‧\\n당뇨병은생활환경의변화,비만율증가,인구고령화등으로지속적으로증가하고있으며,향후더욱증가될것으로예측되는대표적인만성질환임○고혈압은20세이상성인에서의유병률이28.4%,치료율70.3%,조절률56.0%,당뇨병은30세이상성인에서의유병률이15.8%,치료율63.0%,조절률24.4%로나타남* 자료: 고혈압 팩트 시트 2023, 국민건강영양조사 당뇨병 심층보고서 2023○고혈압‧\\n당뇨병의유병인구는약1,600만명으로추산되고있으며,해당진료비도’22년7조9,137억원으로관리필요인구와진료비규모가큰것에비해환자의효율적관리가미흡한실정이며,조절률향상을위한체계적관리가필요함○일차의료만성질환관리사업은’14.3월부터시행된「지역사회일차의료시범사업」과’16.9월부터시행된「만성질환관리시범사업」을통합하여’19.1월부터시행되었으며,모형및수가관련4차례의개선을통해현재의사업모형및운영체계를갖춤* ’24.9월 기준, 질병관리청의 고혈압‧당뇨병 등록관리사업(’07.9~)과 의원급 만성질환관리제(’12.4.~)가 운영 중에 있음. 단, 의원급 만성질환관리제는 본사업 중심으로 통합하되 제도 일몰시기는 추후 결정'),\n",
              " Document(metadata={'producer': 'Pdftools SDK', 'creator': 'PyPDF', 'creationdate': '', 'moddate': '2025-08-23T07:27:45+00:00', 'source': '/content/일차의료+만성질환관리+시범사업(환자관리)_지침-pages.pdf', 'total_pages': 2, 'page': 1, 'page_label': '2'}, page_content='- 4 -\\n나.추진방향○(통합적만성질환관리체계구축)기존4개의만성질환관련시범사업의모델,재정,전산에대한통합모델구축및운영-지역사회일차의료시범사업과만성질환관리시범사업에대해1단계(’18~’19년)통합-’23년도12월부터새로운개선모형을반영한시범사업실시-’24년도본사업전환및고혈압‧\\n당뇨병등록관리사업,의원급만성질환관리제에대한연계‧\\n통합지속추진○(질환별서비스제공)질환별관리계획을수립하여근거기반의전주기적서비스제공○(케어코디네이터도입)의사-케어코디네이터등팀협력(teamapproach)을통한환자관리활동강화2 사업목적가.고혈압및당뇨병발병초기부터동네의원중심의지속적이고포괄적인관리체계를구축하여환자만족도증가및의료전달체계효율화에기여나.근거기반진료지침(Evidence-basedPracticeGuideline)에따른치료를통해조절률을향상시키고,합병증발생을지연시키거나예방3 사업목표가.근거기반진료지침에따른환자진료및관리적용확대나.의사와케어코디네이터간team-approach활성화다.지역사회만성질환관리거버넌스구축기반마련라.동네의원진료환자의고혈압및당뇨병조절률향상')]"
            ]
          },
          "metadata": {},
          "execution_count": 16
        }
      ]
    },
    {
      "cell_type": "code",
      "source": [
        "# pdf의 내용을 임베딩(embedding)하여 벡터 데이터베이스에 저장합니다.\n",
        "# 임베딩: 텍스트를 모델이 이해할 수 있는 벡터(숫자들의 배열) 형태로 변환하는 것\n",
        "\n",
        "embeddings = OpenAIEmbeddings()\n",
        "vector_store = Chroma.from_documents(texts, embeddings)\n",
        "retriever = vector_store.as_retriever(search_kwargs={\"k\": 2})"
      ],
      "metadata": {
        "id": "zp2FV2SI0JnE"
      },
      "execution_count": 17,
      "outputs": []
    },
    {
      "cell_type": "code",
      "source": [
        "# 랭체인의 대화 모델을 불러옵니다.\n",
        "from langchain.chat_models import ChatOpenAI\n",
        "from langchain.chains import RetrievalQAWithSourcesChain\n",
        "\n",
        "# GPT-4를 사용할 수 있다면 gpt-3.5-turbo 대신 gpt-4를 쓰셔도 좋습니다.\n",
        "llm = ChatOpenAI(model_name=\"gpt-3.5-turbo\", temperature=0.5)\n",
        "\n",
        "# 질의응답을 위한 체인을 정의합니다.\n",
        "chain = RetrievalQAWithSourcesChain.from_chain_type(\n",
        "    llm=llm,\n",
        "    chain_type=\"stuff\",\n",
        "    retriever = retriever,\n",
        "    return_source_documents=True)"
      ],
      "metadata": {
        "id": "Gvp4kukQ0N7V"
      },
      "execution_count": 28,
      "outputs": []
    },
    {
      "cell_type": "code",
      "source": [
        "query = \"일차의료 만성질환 사업은 무슨 사업이 통합된 것인가?\"\n",
        "result = chain(query)\n",
        "print(result)"
      ],
      "metadata": {
        "colab": {
          "base_uri": "https://localhost:8080/"
        },
        "id": "J4GoU9cB0SoQ",
        "outputId": "09cb1486-7dab-44d2-bf47-880ae98d9b4a"
      },
      "execution_count": 29,
      "outputs": [
        {
          "output_type": "stream",
          "name": "stdout",
          "text": [
            "{'question': '일차의료 만성질환 사업은 무슨 사업이 통합된 것인가?', 'answer': '일차의료 만성질환관리 사업은 기존 4개의 만성질환 관련 시범사업이 통합된 사업입니다.\\n', 'sources': '/content/일차의료+만성질환관리+시범사업(환자관리)_지침.pdf, /content/일차의료+만성질환관리+시범사업(환자관리)_지침-pages.pdf', 'source_documents': [Document(metadata={'source': '/content/일차의료+만성질환관리+시범사업(환자관리)_지침.pdf', 'page': 43, 'pdfversion': '1.4', 'producer': 'Hancom PDF 1.3.0.547', 'total_pages': 47, 'author': 'USER', 'creator': 'Hwp 2022 12.0.0.3650', 'creationdate': '2024-09-30T17:25:32+09:00', 'moddate': '2024-09-30T17:25:32+09:00', 'page_label': '44'}, page_content='별 지 서 식  \\n [별지 제1호 서식]  만성질환 통합관리 환자관리료 점검서(월별) [별지 제2호 서식]  일차의료 만성질환관리 사업 자료제출시스템 통합관리내역 수정 요청서'), Document(metadata={'page_label': '2', 'source': '/content/일차의료+만성질환관리+시범사업(환자관리)_지침-pages.pdf', 'creationdate': '', 'total_pages': 2, 'moddate': '2025-08-23T07:27:45+00:00', 'page': 1, 'creator': 'PyPDF', 'producer': 'Pdftools SDK'}, page_content='- 4 -\\n나.추진방향○(통합적만성질환관리체계구축)기존4개의만성질환관련시범사업의모델,재정,전산에대한통합모델구축및운영-지역사회일차의료시범사업과만성질환관리시범사업에대해1단계(’18~’19년)통합-’23년도12월부터새로운개선모형을반영한시범사업실시-’24년도본사업전환및고혈압‧\\n당뇨병등록관리사업,의원급만성질환관리제에대한연계‧\\n통합지속추진○(질환별서비스제공)질환별관리계획을수립하여근거기반의전주기적서비스제공○(케어코디네이터도입)의사-케어코디네이터등팀협력(teamapproach)을통한환자관리활동강화2 사업목적가.고혈압및당뇨병발병초기부터동네의원중심의지속적이고포괄적인관리체계를구축하여환자만족도증가및의료전달체계효율화에기여나.근거기반진료지침(Evidence-basedPracticeGuideline)에따른치료를통해조절률을향상시키고,합병증발생을지연시키거나예방3 사업목표가.근거기반진료지침에따른환자진료및관리적용확대나.의사와케어코디네이터간team-approach활성화다.지역사회만성질환관리거버넌스구축기반마련라.동네의원진료환자의고혈압및당뇨병조절률향상')]}\n"
          ]
        }
      ]
    },
    {
      "cell_type": "code",
      "source": [
        "print(result['answer'])"
      ],
      "metadata": {
        "colab": {
          "base_uri": "https://localhost:8080/"
        },
        "id": "8yEkZ1v51qll",
        "outputId": "d5bb4a85-8394-4302-bd22-665609ce0637"
      },
      "execution_count": 30,
      "outputs": [
        {
          "output_type": "stream",
          "name": "stdout",
          "text": [
            "일차의료 만성질환관리 사업은 기존 4개의 만성질환 관련 시범사업이 통합된 사업입니다.\n",
            "\n"
          ]
        }
      ]
    },
    {
      "cell_type": "code",
      "source": [
        "print(result['sources'])"
      ],
      "metadata": {
        "colab": {
          "base_uri": "https://localhost:8080/"
        },
        "id": "AG1yjWxL1rLU",
        "outputId": "d651a167-a569-40f0-98a3-6ce5027da113"
      },
      "execution_count": 31,
      "outputs": [
        {
          "output_type": "stream",
          "name": "stdout",
          "text": [
            "/content/일차의료+만성질환관리+시범사업(환자관리)_지침.pdf, /content/일차의료+만성질환관리+시범사업(환자관리)_지침-pages.pdf\n"
          ]
        }
      ]
    },
    {
      "cell_type": "code",
      "source": [
        "from langchain.prompts.chat import (\n",
        "    ChatPromptTemplate,\n",
        "    SystemMessagePromptTemplate,\n",
        "    HumanMessagePromptTemplate,\n",
        ")\n",
        "\n",
        "system_template=\"\"\"Use the following pieces of context to answer the users question shortly.\n",
        "Given the following summaries of a long document and a question, create a final answer with references (\"SOURCES\"), use \"SOURCES\" in capital letters regardless of the number of sources.\n",
        "If you don't know the answer, just say that \"I don't know\", don't try to make up an answer.\n",
        "----------------\n",
        "{summaries}\n",
        "\n",
        "You MUST answer in Korean and in Markdown format:\"\"\"\n",
        "\n",
        "messages = [\n",
        "    SystemMessagePromptTemplate.from_template(system_template),\n",
        "    HumanMessagePromptTemplate.from_template(\"{question}\")\n",
        "]\n",
        "\n",
        "prompt = ChatPromptTemplate.from_messages(messages)"
      ],
      "metadata": {
        "id": "IgrO55ep1vGA"
      },
      "execution_count": 32,
      "outputs": []
    },
    {
      "cell_type": "code",
      "source": [
        "from langchain.chat_models import ChatOpenAI\n",
        "from langchain.chains import RetrievalQAWithSourcesChain\n",
        "\n",
        "chain_type_kwargs = {\"prompt\": prompt}\n",
        "\n",
        "# GPT-4를 사용할 수 있다면 gpt-3.5-turbo 대신 gpt-4를 쓰셔도 좋습니다.\n",
        "llm = ChatOpenAI(model_name=\"gpt-3.5-turbo\", temperature=0)\n",
        "\n",
        "chain = RetrievalQAWithSourcesChain.from_chain_type(\n",
        "    llm=llm,\n",
        "    chain_type=\"stuff\",\n",
        "    retriever = retriever,\n",
        "    return_source_documents=True,\n",
        "    chain_type_kwargs=chain_type_kwargs\n",
        ")"
      ],
      "metadata": {
        "id": "ysFY4kyg1xU1"
      },
      "execution_count": 33,
      "outputs": []
    },
    {
      "cell_type": "code",
      "source": [
        "query = \"일차의료 만성질환 사업은 무슨 사업이 통합된 것인가?\"\n",
        "result = chain(query)\n",
        "print(result)"
      ],
      "metadata": {
        "colab": {
          "base_uri": "https://localhost:8080/"
        },
        "id": "JPYOzxSf11f1",
        "outputId": "c947b6a1-55f4-426d-e7e7-ccf07991148f"
      },
      "execution_count": 34,
      "outputs": [
        {
          "output_type": "stream",
          "name": "stdout",
          "text": [
            "{'question': '일차의료 만성질환 사업은 무슨 사업이 통합된 것인가?', 'answer': \"**답변:**\\n\\n일차의료 만성질환 사업은 '지역사회일차의료시범사업'과 '만성질환관리시범사업'이 통합된 것입니다.\\n\\n**\", 'sources': '**', 'source_documents': [Document(metadata={'source': '/content/일차의료+만성질환관리+시범사업(환자관리)_지침.pdf', 'producer': 'Hancom PDF 1.3.0.547', 'pdfversion': '1.4', 'total_pages': 47, 'creationdate': '2024-09-30T17:25:32+09:00', 'moddate': '2024-09-30T17:25:32+09:00', 'page_label': '44', 'creator': 'Hwp 2022 12.0.0.3650', 'author': 'USER', 'page': 43}, page_content='별 지 서 식  \\n [별지 제1호 서식]  만성질환 통합관리 환자관리료 점검서(월별) [별지 제2호 서식]  일차의료 만성질환관리 사업 자료제출시스템 통합관리내역 수정 요청서'), Document(metadata={'page': 1, 'moddate': '2025-08-23T07:27:45+00:00', 'creator': 'PyPDF', 'creationdate': '', 'page_label': '2', 'total_pages': 2, 'producer': 'Pdftools SDK', 'source': '/content/일차의료+만성질환관리+시범사업(환자관리)_지침-pages.pdf'}, page_content='- 4 -\\n나.추진방향○(통합적만성질환관리체계구축)기존4개의만성질환관련시범사업의모델,재정,전산에대한통합모델구축및운영-지역사회일차의료시범사업과만성질환관리시범사업에대해1단계(’18~’19년)통합-’23년도12월부터새로운개선모형을반영한시범사업실시-’24년도본사업전환및고혈압‧\\n당뇨병등록관리사업,의원급만성질환관리제에대한연계‧\\n통합지속추진○(질환별서비스제공)질환별관리계획을수립하여근거기반의전주기적서비스제공○(케어코디네이터도입)의사-케어코디네이터등팀협력(teamapproach)을통한환자관리활동강화2 사업목적가.고혈압및당뇨병발병초기부터동네의원중심의지속적이고포괄적인관리체계를구축하여환자만족도증가및의료전달체계효율화에기여나.근거기반진료지침(Evidence-basedPracticeGuideline)에따른치료를통해조절률을향상시키고,합병증발생을지연시키거나예방3 사업목표가.근거기반진료지침에따른환자진료및관리적용확대나.의사와케어코디네이터간team-approach활성화다.지역사회만성질환관리거버넌스구축기반마련라.동네의원진료환자의고혈압및당뇨병조절률향상')]}\n"
          ]
        }
      ]
    },
    {
      "cell_type": "code",
      "source": [
        "print(result['answer'])"
      ],
      "metadata": {
        "colab": {
          "base_uri": "https://localhost:8080/"
        },
        "id": "YyHMyxv613Bo",
        "outputId": "e53188f7-f992-4951-a7fe-8a5ff8a3258e"
      },
      "execution_count": 35,
      "outputs": [
        {
          "output_type": "stream",
          "name": "stdout",
          "text": [
            "**답변:**\n",
            "\n",
            "일차의료 만성질환 사업은 '지역사회일차의료시범사업'과 '만성질환관리시범사업'이 통합된 것입니다.\n",
            "\n",
            "**\n"
          ]
        }
      ]
    },
    {
      "cell_type": "code",
      "source": [
        "print(result['answer'])"
      ],
      "metadata": {
        "colab": {
          "base_uri": "https://localhost:8080/"
        },
        "id": "M2k8Yyva2S6O",
        "outputId": "b9a02338-c44e-4d4d-f83e-e1e32f1059f2"
      },
      "execution_count": 36,
      "outputs": [
        {
          "output_type": "stream",
          "name": "stdout",
          "text": [
            "**답변:**\n",
            "\n",
            "일차의료 만성질환 사업은 '지역사회일차의료시범사업'과 '만성질환관리시범사업'이 통합된 것입니다.\n",
            "\n",
            "**\n"
          ]
        }
      ]
    },
    {
      "cell_type": "code",
      "source": [
        "print(result['source_documents'])"
      ],
      "metadata": {
        "colab": {
          "base_uri": "https://localhost:8080/"
        },
        "id": "PLDx_RJS2TzI",
        "outputId": "2116a2ed-2f04-4d16-afc7-5ab0fde6e078"
      },
      "execution_count": 37,
      "outputs": [
        {
          "output_type": "stream",
          "name": "stdout",
          "text": [
            "[Document(metadata={'source': '/content/일차의료+만성질환관리+시범사업(환자관리)_지침.pdf', 'producer': 'Hancom PDF 1.3.0.547', 'pdfversion': '1.4', 'total_pages': 47, 'creationdate': '2024-09-30T17:25:32+09:00', 'moddate': '2024-09-30T17:25:32+09:00', 'page_label': '44', 'creator': 'Hwp 2022 12.0.0.3650', 'author': 'USER', 'page': 43}, page_content='별 지 서 식  \\n [별지 제1호 서식]  만성질환 통합관리 환자관리료 점검서(월별) [별지 제2호 서식]  일차의료 만성질환관리 사업 자료제출시스템 통합관리내역 수정 요청서'), Document(metadata={'page': 1, 'moddate': '2025-08-23T07:27:45+00:00', 'creator': 'PyPDF', 'creationdate': '', 'page_label': '2', 'total_pages': 2, 'producer': 'Pdftools SDK', 'source': '/content/일차의료+만성질환관리+시범사업(환자관리)_지침-pages.pdf'}, page_content='- 4 -\\n나.추진방향○(통합적만성질환관리체계구축)기존4개의만성질환관련시범사업의모델,재정,전산에대한통합모델구축및운영-지역사회일차의료시범사업과만성질환관리시범사업에대해1단계(’18~’19년)통합-’23년도12월부터새로운개선모형을반영한시범사업실시-’24년도본사업전환및고혈압‧\\n당뇨병등록관리사업,의원급만성질환관리제에대한연계‧\\n통합지속추진○(질환별서비스제공)질환별관리계획을수립하여근거기반의전주기적서비스제공○(케어코디네이터도입)의사-케어코디네이터등팀협력(teamapproach)을통한환자관리활동강화2 사업목적가.고혈압및당뇨병발병초기부터동네의원중심의지속적이고포괄적인관리체계를구축하여환자만족도증가및의료전달체계효율화에기여나.근거기반진료지침(Evidence-basedPracticeGuideline)에따른치료를통해조절률을향상시키고,합병증발생을지연시키거나예방3 사업목표가.근거기반진료지침에따른환자진료및관리적용확대나.의사와케어코디네이터간team-approach활성화다.지역사회만성질환관리거버넌스구축기반마련라.동네의원진료환자의고혈압및당뇨병조절률향상')]\n"
          ]
        }
      ]
    },
    {
      "cell_type": "code",
      "source": [
        "# 이렇게 하면 답변 내용을 깔끔하게 정리할 수 있습니다.\n",
        "for doc in result['source_documents']:\n",
        "    print('내용 : ' + doc.page_content[0:100].replace('\\n', ' '))\n",
        "    print('파일 : ' + doc.metadata['source'])\n",
        "    print('페이지 : ' + str(doc.metadata['page']))"
      ],
      "metadata": {
        "colab": {
          "base_uri": "https://localhost:8080/"
        },
        "id": "4_6cbIUW2WBQ",
        "outputId": "8680a1ae-7566-46eb-e5d0-b7499fba56dd"
      },
      "execution_count": 38,
      "outputs": [
        {
          "output_type": "stream",
          "name": "stdout",
          "text": [
            "내용 : 별 지 서 식    [별지 제1호 서식]  만성질환 통합관리 환자관리료 점검서(월별) [별지 제2호 서식]  일차의료 만성질환관리 사업 자료제출시스템 통합관리내역 수정 요청서\n",
            "파일 : /content/일차의료+만성질환관리+시범사업(환자관리)_지침.pdf\n",
            "페이지 : 43\n",
            "내용 : - 4 - 나.추진방향○(통합적만성질환관리체계구축)기존4개의만성질환관련시범사업의모델,재정,전산에대한통합모델구축및운영-지역사회일차의료시범사업과만성질환관리시범사업에대해1단계(’18~’\n",
            "파일 : /content/일차의료+만성질환관리+시범사업(환자관리)_지침-pages.pdf\n",
            "페이지 : 1\n"
          ]
        }
      ]
    },
    {
      "cell_type": "code",
      "source": [
        "# 그라디오 라이브러리를 설치합니다.\n",
        "!pip install -q gradio"
      ],
      "metadata": {
        "id": "YuQa_v1B2Yjz"
      },
      "execution_count": 39,
      "outputs": []
    },
    {
      "cell_type": "code",
      "source": [
        "import gradio as gr"
      ],
      "metadata": {
        "id": "Yw-UhlY32d6I"
      },
      "execution_count": 40,
      "outputs": []
    },
    {
      "cell_type": "code",
      "source": [
        "# 채팅봇의 응답을 처리하는 함수를 정의합니다.\n",
        "def respond(user_input_message, chatbot_ui):\n",
        "\n",
        "    # 사용자의 메시지를 체인으로 처리한 결과입니다.\n",
        "    result = chain(user_input_message)\n",
        "    ai_respond_message = result['answer']\n",
        "\n",
        "    for i, doc in enumerate(result['source_documents']):\n",
        "        ai_respond_message += '[' + str(i+1) + '] ' + doc.metadata['source'] + '(' + str(doc.metadata['page']) + ') '\n",
        "\n",
        "    # 채팅 기록에 사용자의 메시지와 봇의 응답을 추가합니다.\n",
        "    chatbot_ui.append((user_input_message, ai_respond_message))\n",
        "\n",
        "    # 수정된 채팅 기록을 반환합니다.\n",
        "    return \"\", chatbot_ui\n",
        "\n",
        "\n",
        "# gr.Blocks()를 사용하여 인터페이스를 생성합니다.\n",
        "with gr.Blocks() as demo:\n",
        "\n",
        "    # '채팅창'이라는 레이블을 가진 채팅봇 컴포넌트를 생성합니다.\n",
        "    chatbot_ui = gr.Chatbot(label=\"채팅창\")\n",
        "\n",
        "    # '입력'이라는 레이블을 가진 텍스트박스를 생성합니다.\n",
        "    user_input_message = gr.Textbox(label=\"입력\")\n",
        "\n",
        "    # 텍스트박스에 메시지를 입력하고 제출하면 respond 함수가 호출되도록 합니다.\n",
        "    user_input_message.submit(respond, [user_input_message, chatbot_ui], [user_input_message, chatbot_ui])\n",
        "\n",
        "\n",
        "# 인터페이스를 실행합니다.\n",
        "# 사용자는 '입력' 텍스트박스에 메시지를 작성하고 제출할 수 있으며,\n",
        "# '초기화' 버튼을 통해 채팅 기록을 초기화할 수 있습니다.\n",
        "demo.launch(share=True, debug=True)"
      ],
      "metadata": {
        "colab": {
          "base_uri": "https://localhost:8080/",
          "height": 646
        },
        "id": "SrRcdvdk2hny",
        "outputId": "d25ff50d-960a-442f-dbc6-65cb62b8c6da"
      },
      "execution_count": null,
      "outputs": [
        {
          "metadata": {
            "tags": null
          },
          "name": "stderr",
          "output_type": "stream",
          "text": [
            "/tmp/ipython-input-876971638.py:22: UserWarning: You have not specified a value for the `type` parameter. Defaulting to the 'tuples' format for chatbot messages, but this is deprecated and will be removed in a future version of Gradio. Please set type='messages' instead, which uses openai-style dictionaries with 'role' and 'content' keys.\n",
            "  chatbot_ui = gr.Chatbot(label=\"채팅창\")\n"
          ]
        },
        {
          "metadata": {
            "tags": null
          },
          "name": "stdout",
          "output_type": "stream",
          "text": [
            "Colab notebook detected. This cell will run indefinitely so that you can see errors and logs. To turn off, set debug=False in launch().\n",
            "* Running on public URL: https://9896e237085f0ae51b.gradio.live\n",
            "\n",
            "This share link expires in 1 week. For free permanent hosting and GPU upgrades, run `gradio deploy` from the terminal in the working directory to deploy to Hugging Face Spaces (https://huggingface.co/spaces)\n"
          ]
        },
        {
          "data": {
            "text/html": [
              "<div><iframe src=\"https://9896e237085f0ae51b.gradio.live\" width=\"100%\" height=\"500\" allow=\"autoplay; camera; microphone; clipboard-read; clipboard-write;\" frameborder=\"0\" allowfullscreen></iframe></div>"
            ],
            "text/plain": [
              "<IPython.core.display.HTML object>"
            ]
          },
          "metadata": {},
          "output_type": "display_data"
        }
      ]
    }
  ]
}